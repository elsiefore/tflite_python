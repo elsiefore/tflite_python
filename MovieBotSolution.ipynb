{
  "nbformat": 4,
  "nbformat_minor": 0,
  "metadata": {
    "colab": {
      "provenance": []
    },
    "kernelspec": {
      "name": "python3",
      "display_name": "Python 3"
    },
    "language_info": {
      "name": "python"
    }
  },
  "cells": [
    {
      "cell_type": "code",
      "source": [
        "!pip install python-telegram-bot"
      ],
      "metadata": {
        "id": "9YTe66xDC12L"
      },
      "execution_count": null,
      "outputs": []
    },
    {
      "cell_type": "markdown",
      "source": [
        "#MovieBot\n",
        "Ha likes to watch movies, but she is a very lazy person. So, rather than searching online (yes, she is too lazy to type), she created a bot to search for movies by its title."
      ],
      "metadata": {
        "id": "6VOG_RKCC6S-"
      }
    },
    {
      "cell_type": "code",
      "source": [
        "from telegram.ext import ApplicationBuilder, CommandHandler, MessageHandler, filters\n",
        "import requests\n",
        "import nest_asyncio\n",
        "\n",
        "# Paste your own token in the variable below\n",
        "TOKEN = \"\"\n",
        "\n",
        "async def movie_handler(update, context):\n",
        "    print(\"\\n====== entered movie_handler ======\")\n",
        "    chat_id = update.message.chat_id\n",
        "\n",
        "    print(\"====== movie_handler update.message.text: \" + update.message.text)\n",
        "    # TODO No.1:\n",
        "    # get the movie name entered by the user from the variable update.message.text\n",
        "    # and store it in the variable movie_name\n",
        "    movie_name = update.message.text[7:].strip()\n",
        "    print(\"====== movie_name: \" + movie_name)\n",
        "\n",
        "    # TODO No.2:\n",
        "    # Given a API, use the API to retrieve information related to movie name\n",
        "    # http://www.omdbapi.com/?apikey=3c5f42ed&t=<movie_name>\n",
        "    # Example: http://www.omdbapi.com/?apikey=3c5f42ed&t=minions\n",
        "    constructed_url = \"http://www.omdbapi.com/?apikey=3c5f42ed&t=\" + movie_name\n",
        "    print(\"====== constructed_url: \" + constructed_url)\n",
        "    contents = requests.get(constructed_url).json()\n",
        "    print(\"====== contents: \" + str(contents))\n",
        "\n",
        "    # TODO No.3:\n",
        "    # Retrieve the field Response from the contents\n",
        "    response = contents[\"Response\"]\n",
        "    print(\"====== response: \" + response)\n",
        "\n",
        "    # TODO No.4:\n",
        "    # Given successul query will have the response as True, unsuccessul query will have response as False\n",
        "    # write a if else condition\n",
        "    # for failed query: send back a message to notify user that there is no information found\n",
        "    # for success query: send back the Title and Year\n",
        "    if response == \"False\":\n",
        "        await context.bot.send_message(chat_id=chat_id, text=\"No movie available for this title: \" + movie_name)\n",
        "    else:\n",
        "        title = contents[\"Title\"]\n",
        "        year = contents[\"Year\"]\n",
        "        await context.bot.send_message(chat_id=chat_id, text=\"Title: \" + title + \". Year: \" + year)\n",
        "\n",
        "        # TODO No.5:\n",
        "        # add on to the response True branch that we have written\n",
        "        # return the Poster field as photo to the user\n",
        "        if contents[\"Poster\"] != \"N/A\":\n",
        "            await context.bot.send_photo(chat_id=chat_id, photo=contents[\"Poster\"])\n",
        "        else:\n",
        "            await context.bot.send_message(chat_id=chat_id, text=\"No poster available for this one\")\n",
        "\n",
        "        # TODO No.6:\n",
        "        # Open ended question. Return whichever field in whichever format you want.\n",
        "        # teachers can go through the example below\n",
        "        for key, value in contents.items():\n",
        "            if key not in [\"Response\", \"Poster\"]:\n",
        "                constructed_text = key + \": \" + str(value)\n",
        "                await context.bot.send_message(chat_id=chat_id, text=constructed_text)\n",
        "\n",
        "\n",
        "async def fallback_handler(update, context):\n",
        "    await context.bot.send_message(chat_id=update.effective_chat.id,\n",
        "                             text=\"Sorry, I didn't understand that command. Please try with /movie <movie_name>\")\n",
        "\n",
        "\n",
        "def main():\n",
        "    print(\"====== starting bot program ======\")\n",
        "\n",
        "    application = ApplicationBuilder().token(TOKEN).build()\n",
        "\n",
        "    # movie_handler to be filled in by student\n",
        "    application.add_handler(CommandHandler(\"movie\", movie_handler))\n",
        "\n",
        "    # Optional content - fallback handler\n",
        "    application.add_handler(MessageHandler(filters.ALL, fallback_handler))\n",
        "\n",
        "    nest_asyncio.apply()\n",
        "    application.run_polling()\n",
        "\n",
        "\n",
        "if __name__ == \"__main__\":\n",
        "    main()"
      ],
      "metadata": {
        "id": "D7u0yIQd-t8q"
      },
      "execution_count": null,
      "outputs": []
    }
  ]
}