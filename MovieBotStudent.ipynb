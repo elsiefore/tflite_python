{
  "nbformat": 4,
  "nbformat_minor": 0,
  "metadata": {
    "colab": {
      "provenance": []
    },
    "kernelspec": {
      "name": "python3",
      "display_name": "Python 3"
    },
    "language_info": {
      "name": "python"
    }
  },
  "cells": [
    {
      "cell_type": "code",
      "source": [
        "!pip install python-telegram-bot"
      ],
      "metadata": {
        "id": "tM8uVS2PM99B"
      },
      "execution_count": null,
      "outputs": []
    },
    {
      "cell_type": "code",
      "execution_count": null,
      "metadata": {
        "id": "vN0Tg9AgM5jn"
      },
      "outputs": [],
      "source": [
        "from telegram.ext import ApplicationBuilder, CommandHandler, MessageHandler, filters\n",
        "import requests\n",
        "import nest_asyncio\n",
        "\n",
        "# Paste your own token in the variable below\n",
        "TOKEN = \"\"\n",
        "\n",
        "\n",
        "async def movie_handler(update, context):\n",
        "    print(\"\\n====== entered movie_handler ======\")\n",
        "    chat_id = update.message.chat_id\n",
        "\n",
        "    print(\"====== movie_handler update.message.text: \" + update.message.text)\n",
        "    # TODO No.1:\n",
        "    # get the movie name entered by the user from the variable update.message.text\n",
        "    # and store it in the variable movie_name\n",
        "    movie_name = <to fill in>\n",
        "    print(\"====== movie_name: \" + movie_name)\n",
        "\n",
        "    # TODO No.2:\n",
        "    # Given a API, use the API to retrieve information related to movie name\n",
        "    # http://www.omdbapi.com/?apikey=3c5f42ed&t=<movie_name>\n",
        "    # Example: http://www.omdbapi.com/?apikey=3c5f42ed&t=minions\n",
        "    constructed_url = <to fill in>\n",
        "    print(\"====== constructed_url: \" + constructed_url)\n",
        "    contents = <to fill in>\n",
        "    print(\"====== contents: \" + str(contents))\n",
        "\n",
        "    # TODO No.3:\n",
        "    # Retrieve the field Response from the contents\n",
        "    response = <to fill in>\n",
        "    print(\"====== response: \" + response)\n",
        "\n",
        "    # TODO No.4:\n",
        "    # Given successul query will have the response as True, unsuccessul query will have response as False\n",
        "    # write a if else condition\n",
        "    # for failed query: send back a message to notify user that there is no information found\n",
        "    # for success query: send back the Title and Year\n",
        "    if <to fill in>:\n",
        "        <to fill in>\n",
        "    else:\n",
        "        <to fill in>\n",
        "\n",
        "        # TODO No.5:\n",
        "        # add on to the response True branch that we have written\n",
        "        # return the Poster field as photo to the user\n",
        "\n",
        "        # TODO No.6:\n",
        "        # Open ended question. Return whichever field in whichever format you want.\n",
        "\n",
        "\n",
        "async def fallback_handler(update, context):\n",
        "    await context.bot.send_message(chat_id=update.effective_chat.id,\n",
        "                             text=\"Sorry, I didn't understand that command. Please try with /movie <movie_name>\")\n",
        "\n",
        "\n",
        "def main():\n",
        "    print(\"====== starting bot program ======\")\n",
        "\n",
        "    application = ApplicationBuilder().token(TOKEN).build()\n",
        "\n",
        "    # movie_handler to be filled in by student\n",
        "    application.add_handler(CommandHandler(\"movie\", movie_handler))\n",
        "\n",
        "    # Optional content - fallback handler\n",
        "    application.add_handler(MessageHandler(filters.ALL, fallback_handler))\n",
        "\n",
        "    nest_asyncio.apply()\n",
        "    application.run_polling()\n",
        "\n",
        "\n",
        "if __name__ == \"__main__\":\n",
        "    main()"
      ]
    }
  ]
}