{
  "nbformat": 4,
  "nbformat_minor": 0,
  "metadata": {
    "colab": {
      "provenance": []
    },
    "kernelspec": {
      "name": "python3",
      "display_name": "Python 3"
    },
    "language_info": {
      "name": "python"
    }
  },
  "cells": [
    {
      "cell_type": "markdown",
      "source": [
        "# Fancy a Image Detector?\n",
        "\n",
        "Don't have time to manually look through photos and decide what it is? We got you!\n",
        "\n",
        "With this telegram bot - equipped with AI capabilities - you will be able to instantly classify images at lightning speed."
      ],
      "metadata": {
        "id": "vdl70arJnKwC"
      }
    },
    {
      "cell_type": "markdown",
      "source": [
        "# AI for Image Classification"
      ],
      "metadata": {
        "id": "NXbAXYTZnZeF"
      }
    },
    {
      "cell_type": "code",
      "execution_count": null,
      "metadata": {
        "id": "rhuE2EkneNHc"
      },
      "outputs": [],
      "source": [
        "!pip install tensorflow==2.13.0\n",
        "!pip install tflite-support==0.4.4"
      ]
    },
    {
      "cell_type": "code",
      "source": [
        "from tflite_support.task import vision\n",
        "from tflite_support.task import core\n",
        "from tflite_support.task import processor\n",
        "import requests\n",
        "import zipfile\n",
        "\n",
        "\"\"\"\n",
        "Returns a TFLite Image Classifier using the pretrained model for image classification\n",
        "\"\"\"\n",
        "def get_model():\n",
        "  model_url = \"https://storage.googleapis.com/download.tensorflow.org/models/tflite/mobilenet_v1_1.0_224_quant_and_labels.zip\"\n",
        "  r = requests.get(model_url)\n",
        "  with open('mobilenet_v1_1.0_224_quant_and_labels.zip','wb') as f:\n",
        "    f.write(r.content)\n",
        "\n",
        "  with zipfile.ZipFile(\"mobilenet_v1_1.0_224_quant_and_labels.zip\",\"r\") as zip_ref:\n",
        "    zip_ref.extractall(\"mobilenet_v1_1.0_224_quant_and_labels\")\n",
        "\n",
        "  with open(\"/content/mobilenet_v1_1.0_224_quant_and_labels/labels_mobilenet_quant_v1_224.txt\", 'r') as f:\n",
        "    labels = list(map(str.strip, f.readlines()))\n",
        "\n",
        "  classifier = vision.ImageClassifier.create_from_file(\"/content/mobilenet_v1_1.0_224_quant_and_labels/mobilenet_v1_1.0_224_quant.tflite\")\n",
        "  return classifier, labels\n",
        "\n",
        "\"\"\"\n",
        "Using the given classifier, classify the given image to one of the items in the labels.\n",
        "\"\"\"\n",
        "def classify_image(classifier, labels, image_path):\n",
        "  image = vision.TensorImage.create_from_file(image_path)\n",
        "  classification_result = classifier.classify(image)\n",
        "  max_score_category = sorted(classification_result.classifications[0].categories, reverse=True, key=lambda x: x.score)[0]\n",
        "\n",
        "  return labels[max_score_category.index]"
      ],
      "metadata": {
        "id": "tvN3_0EMec1T"
      },
      "execution_count": null,
      "outputs": []
    },
    {
      "cell_type": "code",
      "source": [
        "classifier, labels = get_model()\n",
        "classify_image(classifier, labels, 'sparrow.jpg')"
      ],
      "metadata": {
        "id": "9G8W6dcjghpd"
      },
      "execution_count": null,
      "outputs": []
    },
    {
      "cell_type": "markdown",
      "source": [
        "# Creating Telegram Chatbot\n",
        "First, search BotFather in Telegram, and request for a new bot by typing /newbot.\n",
        "\n",
        "You will be prompted to give your bot a username, and you will get the bot token.\n",
        "\n",
        "Here, we will create a telegram chatbot that classifies images that you send."
      ],
      "metadata": {
        "id": "n1exIRzwnfEu"
      }
    },
    {
      "cell_type": "code",
      "source": [
        "!pip install python-telegram-bot"
      ],
      "metadata": {
        "id": "TKLeqCDomdfO"
      },
      "execution_count": null,
      "outputs": []
    },
    {
      "cell_type": "code",
      "source": [
        "from telegram import Update\n",
        "from telegram.ext import filters, ApplicationBuilder, ContextTypes, MessageHandler\n",
        "import nest_asyncio\n",
        "\n",
        "async def image_classifier(update: Update, context: ContextTypes.DEFAULT_TYPE):\n",
        "    image_attachment = await update.message.effective_attachment[-1].get_file()\n",
        "    image_path = await image_attachment.download_to_drive()\n",
        "\n",
        "    await context.bot.send_message(chat_id=update.effective_chat.id, text=classify_image(classifier, labels, str(image_path)))\n",
        "\n",
        "if __name__ == '__main__':\n",
        "  application = ApplicationBuilder().token('').build()\n",
        "\n",
        "  image_handler = MessageHandler(filters.PHOTO & (~filters.COMMAND), image_classifier)\n",
        "  application.add_handler(image_handler)\n",
        "\n",
        "  nest_asyncio.apply()\n",
        "  application.run_polling()"
      ],
      "metadata": {
        "id": "1ReGS3GLla8M"
      },
      "execution_count": null,
      "outputs": []
    }
  ]
}