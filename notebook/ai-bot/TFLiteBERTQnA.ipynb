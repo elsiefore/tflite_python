{
  "nbformat": 4,
  "nbformat_minor": 0,
  "metadata": {
    "colab": {
      "provenance": []
    },
    "kernelspec": {
      "name": "python3",
      "display_name": "Python 3"
    },
    "language_info": {
      "name": "python"
    }
  },
  "cells": [
    {
      "cell_type": "markdown",
      "source": [
        "# Lightning Reader on Your Phone!\n",
        "\n",
        "Don't have time to read through a text passage to find what the answer is? We got you!\n",
        "\n",
        "With this telegram bot - equipped with AI capabilities - you will be able to instantly answer questions without reading the text passage."
      ],
      "metadata": {
        "id": "kZUF1LqEfQoZ"
      }
    },
    {
      "cell_type": "markdown",
      "source": [
        "# AI for QnA"
      ],
      "metadata": {
        "id": "7IvYWlSRf8PR"
      }
    },
    {
      "cell_type": "code",
      "execution_count": null,
      "metadata": {
        "id": "EjCBMCExZjtm"
      },
      "outputs": [],
      "source": [
        "!pip install tensorflow==2.13.0\n",
        "!pip install tflite-support==0.4.4"
      ]
    },
    {
      "cell_type": "code",
      "source": [
        "from tflite_support.task import text\n",
        "import requests\n",
        "\n",
        "\"\"\"\n",
        "Returns a TFLite BERT Classifier using the pretrained model for answering questions based on context.\n",
        "\"\"\"\n",
        "def get_model():\n",
        "  model_url = \"https://tfhub.dev/tensorflow/lite-model/mobilebert/1/metadata/1?lite-format=tflite\"\n",
        "  r = requests.get(model_url)\n",
        "  with open('mobilebert.tflite','wb') as f:\n",
        "    f.write(r.content)\n",
        "\n",
        "  answerer = text.BertQuestionAnswerer.create_from_file(\"mobilebert.tflite\")\n",
        "  return answerer\n",
        "\n",
        "\"\"\"\n",
        "Using the given answerer and context, reply with the answer for the question that has the highest\n",
        "possibility.\n",
        "\"\"\"\n",
        "def answer_based_on_context(answerer, context, question):\n",
        "  answer_list = answerer.answer(context, question)\n",
        "  answer = sorted(answer_list.answers, reverse=True, key=lambda x: x.pos.logit)[0]\n",
        "\n",
        "  return answer.text"
      ],
      "metadata": {
        "id": "BWiukkNKZojE"
      },
      "execution_count": null,
      "outputs": []
    },
    {
      "cell_type": "code",
      "source": [
        "answerer = get_model()\n",
        "answer_based_on_context(answerer, \"Bob has 3 apples.\", \"How many apples do Bob have?\")"
      ],
      "metadata": {
        "id": "yuQFm9jndB6l"
      },
      "execution_count": null,
      "outputs": []
    },
    {
      "cell_type": "markdown",
      "source": [
        "# Creating Telegram Chatbot\n",
        "First, search BotFather in Telegram, and request for a new bot by typing /newbot.\n",
        "\n",
        "You will be prompted to give your bot a username, and you will get the bot token.\n",
        "\n",
        "Here, we will create a telegram chatbot that replies to your every question based on the context."
      ],
      "metadata": {
        "id": "mry69KC1gDbP"
      }
    },
    {
      "cell_type": "code",
      "source": [
        "!pip install python-telegram-bot"
      ],
      "metadata": {
        "id": "Lf94vOrDcOkl"
      },
      "execution_count": null,
      "outputs": []
    },
    {
      "cell_type": "code",
      "source": [
        "from telegram import Update\n",
        "from telegram.ext import filters, ApplicationBuilder, ContextTypes, MessageHandler, CommandHandler\n",
        "import nest_asyncio\n",
        "\n",
        "text_context = \"\"\n",
        "\n",
        "async def answer_question_with_context(update: Update, context: ContextTypes.DEFAULT_TYPE):\n",
        "  if (text_context == None or text_context == \"\"):\n",
        "    await context.bot.send_message(chat_id=update.effective_chat.id, text=\"Context is not set!\")\n",
        "\n",
        "  reply = answer_based_on_context(answerer, text_context, update.message.text)\n",
        "  await context.bot.send_message(chat_id=update.effective_chat.id, text=reply)\n",
        "\n",
        "async def set_context(update: Update, context: ContextTypes.DEFAULT_TYPE):\n",
        "  global text_context\n",
        "  text_context = update.message.text\n",
        "\n",
        "  await context.bot.send_message(chat_id=update.effective_chat.id, text=\"Context Updated!\")\n",
        "\n",
        "if __name__ == '__main__':\n",
        "  application = ApplicationBuilder().token('').build()\n",
        "\n",
        "  context_handler = CommandHandler('context', set_context)\n",
        "  application.add_handler(context_handler)\n",
        "\n",
        "  answer_handler = MessageHandler(filters.TEXT & (~filters.COMMAND), answer_question_with_context)\n",
        "  application.add_handler(answer_handler)\n",
        "\n",
        "  nest_asyncio.apply()\n",
        "  application.run_polling()"
      ],
      "metadata": {
        "id": "uiUtR2y5cRDz"
      },
      "execution_count": null,
      "outputs": []
    }
  ]
}
