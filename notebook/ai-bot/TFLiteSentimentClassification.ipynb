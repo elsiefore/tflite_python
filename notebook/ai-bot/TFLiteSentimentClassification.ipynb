{
  "nbformat": 4,
  "nbformat_minor": 0,
  "metadata": {
    "colab": {
      "provenance": []
    },
    "kernelspec": {
      "name": "python3",
      "display_name": "Python 3"
    },
    "language_info": {
      "name": "python"
    }
  },
  "cells": [
    {
      "cell_type": "markdown",
      "source": [
        "# Toxic Comment Detection\n",
        "Got a lot of comments on your post and don't know how to filter them? We got you!\n",
        "\n",
        "With this telegram bot - equipped with AI capabilities - you will be able to know whether these comments are positive or not!"
      ],
      "metadata": {
        "id": "piZDQHibVPWL"
      }
    },
    {
      "cell_type": "markdown",
      "source": [
        "# AI for Sentiment Analysis"
      ],
      "metadata": {
        "id": "CvQ_wkQtwZob"
      }
    },
    {
      "cell_type": "code",
      "source": [
        "!pip install tensorflow==2.13.0\n",
        "!pip install tflite-support==0.4.4"
      ],
      "metadata": {
        "id": "n9KWnpBFVNWM"
      },
      "execution_count": null,
      "outputs": []
    },
    {
      "cell_type": "code",
      "source": [
        "from tflite_support.task import text\n",
        "import requests\n",
        "\n",
        "\"\"\"\n",
        "Returns a TFLite NL Classifier using the pretrained model for comment sentiment analysis.\n",
        "\"\"\"\n",
        "def get_model():\n",
        "  model_url = \"https://storage.googleapis.com/download.tensorflow.org/models/tflite/text_classification/text_classification_v2.tflite\"\n",
        "  r = requests.get(model_url)\n",
        "  with open('text_classification_v2.tflite','wb') as f:\n",
        "    f.write(r.content)\n",
        "\n",
        "  classifier = text.NLClassifier.create_from_file(\"text_classification_v2.tflite\")\n",
        "  return classifier\n",
        "\n",
        "\"\"\"\n",
        "Using the given classifier, classify whether the input string has positive or negative sentiment.\n",
        "This function will return True if positive, else False.\n",
        "\"\"\"\n",
        "def classify_positive_comment(classifier, input):\n",
        "  classification_result = classifier.classify(input)\n",
        "  max_score_category = sorted(classification_result.classifications[0].categories, reverse=True, key=lambda x: x.score)[0]\n",
        "\n",
        "  if max_score_category.category_name == 'Positive':\n",
        "    return True\n",
        "  else:\n",
        "    return False"
      ],
      "metadata": {
        "id": "kgKHSgPFSTjp"
      },
      "execution_count": null,
      "outputs": []
    },
    {
      "cell_type": "code",
      "source": [
        "classifier = get_model()\n",
        "classify_positive_comment(classifier, \"This is amazing!\")"
      ],
      "metadata": {
        "id": "yv3Vrn7nx2p1"
      },
      "execution_count": null,
      "outputs": []
    },
    {
      "cell_type": "markdown",
      "source": [
        "# Creating Telegram Chatbot\n",
        "First, search BotFather in Telegram, and request for a new bot by typing /newbot.\n",
        "\n",
        "You will be prompted to give your bot a username, and you will get the bot token.\n",
        "\n",
        "Here, we will create a telegram chatbot that replies to your every message whether it is positive or not."
      ],
      "metadata": {
        "id": "sLn1r1f_wdY2"
      }
    },
    {
      "cell_type": "code",
      "source": [
        "!pip install python-telegram-bot"
      ],
      "metadata": {
        "id": "JkvrU7U5xOvQ"
      },
      "execution_count": null,
      "outputs": []
    },
    {
      "cell_type": "code",
      "source": [
        "from telegram import Update\n",
        "from telegram.ext import filters, ApplicationBuilder, ContextTypes, MessageHandler\n",
        "import nest_asyncio\n",
        "\n",
        "async def reply_with_sentiment(update: Update, context: ContextTypes.DEFAULT_TYPE):\n",
        "  is_positive = classify_positive_comment(classifier, update.message.text)\n",
        "\n",
        "  if is_positive:\n",
        "    reply = \"This is a positive comment, keep it up!\"\n",
        "  else:\n",
        "    reply = \"This is not a postive comment, be happy and cheer up!\"\n",
        "\n",
        "  await context.bot.send_message(chat_id=update.effective_chat.id, text=reply)\n",
        "\n",
        "if __name__ == '__main__':\n",
        "  application = ApplicationBuilder().token('').build()\n",
        "\n",
        "  sentiment_handler = MessageHandler(filters.TEXT & (~filters.COMMAND), reply_with_sentiment)\n",
        "  application.add_handler(sentiment_handler)\n",
        "\n",
        "  nest_asyncio.apply()\n",
        "  application.run_polling()"
      ],
      "metadata": {
        "id": "SG51o0Raxoi_"
      },
      "execution_count": null,
      "outputs": []
    }
  ]
}
